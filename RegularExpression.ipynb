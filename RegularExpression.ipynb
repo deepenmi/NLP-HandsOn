{
  "nbformat": 4,
  "nbformat_minor": 0,
  "metadata": {
    "colab": {
      "name": "RegularExpression.ipynb",
      "provenance": [],
      "collapsed_sections": [],
      "authorship_tag": "ABX9TyNhSQ2DjsPr3KibcxKMXOqH",
      "include_colab_link": true
    },
    "kernelspec": {
      "name": "python3",
      "display_name": "Python 3"
    }
  },
  "cells": [
    {
      "cell_type": "markdown",
      "metadata": {
        "id": "view-in-github",
        "colab_type": "text"
      },
      "source": [
        "<a href=\"https://colab.research.google.com/github/deepenmi/NLP-HandsOn/blob/master/RegularExpression.ipynb\" target=\"_parent\"><img src=\"https://colab.research.google.com/assets/colab-badge.svg\" alt=\"Open In Colab\"/></a>"
      ]
    },
    {
      "cell_type": "code",
      "metadata": {
        "id": "RAxQWEMaYUEQ",
        "colab_type": "code",
        "colab": {}
      },
      "source": [
        ""
      ],
      "execution_count": 0,
      "outputs": []
    },
    {
      "cell_type": "markdown",
      "metadata": {
        "id": "_igK9YszYX-5",
        "colab_type": "text"
      },
      "source": [
        "## Import Regular Expression Library\n"
      ]
    },
    {
      "cell_type": "code",
      "metadata": {
        "id": "le7H-afxYhar",
        "colab_type": "code",
        "colab": {}
      },
      "source": [
        "import re"
      ],
      "execution_count": 0,
      "outputs": []
    },
    {
      "cell_type": "markdown",
      "metadata": {
        "id": "BsTdFUO0Za3D",
        "colab_type": "text"
      },
      "source": [
        "Quick search of pattern in the text"
      ]
    },
    {
      "cell_type": "code",
      "metadata": {
        "id": "nBLF2E0-Ye2a",
        "colab_type": "code",
        "colab": {
          "base_uri": "https://localhost:8080/",
          "height": 34
        },
        "outputId": "dd902bcb-6517-42b0-d6c2-b03f7376d69e"
      },
      "source": [
        "re.search('Deependra', 'Hello, my name is Deependra. How are you doing?')"
      ],
      "execution_count": 3,
      "outputs": [
        {
          "output_type": "execute_result",
          "data": {
            "text/plain": [
              "<_sre.SRE_Match object; span=(18, 27), match='Deependra'>"
            ]
          },
          "metadata": {
            "tags": []
          },
          "execution_count": 3
        }
      ]
    },
    {
      "cell_type": "code",
      "metadata": {
        "id": "p83AJmrwYzoH",
        "colab_type": "code",
        "colab": {
          "base_uri": "https://localhost:8080/",
          "height": 34
        },
        "outputId": "95a8228b-304f-4670-c0f9-fc61c9020fc8"
      },
      "source": [
        "# print output of re.search()\n",
        "match = re.search('ocean', 'You can never cross the ocean until you have the courage to lose sight of the shore')\n",
        "print(match.group())"
      ],
      "execution_count": 4,
      "outputs": [
        {
          "output_type": "stream",
          "text": [
            "ocean\n"
          ],
          "name": "stdout"
        }
      ]
    },
    {
      "cell_type": "markdown",
      "metadata": {
        "id": "bEVbRs8HaC0v",
        "colab_type": "text"
      },
      "source": [
        "### Function to match regular expression patterns\n"
      ]
    },
    {
      "cell_type": "code",
      "metadata": {
        "id": "tsIuXs2_aOTy",
        "colab_type": "code",
        "colab": {}
      },
      "source": [
        "def find_pattern(text, pattern):\n",
        "  return re.search(pattern, text)"
      ],
      "execution_count": 0,
      "outputs": []
    },
    {
      "cell_type": "code",
      "metadata": {
        "id": "ynACDuysaMI8",
        "colab_type": "code",
        "colab": {
          "base_uri": "https://localhost:8080/",
          "height": 34
        },
        "outputId": "fde6a8a3-dcd9-4b3f-f5d3-a594f312a32f"
      },
      "source": [
        "find_pattern(\"You don't always need a plan.\",\"pj*\")"
      ],
      "execution_count": 6,
      "outputs": [
        {
          "output_type": "execute_result",
          "data": {
            "text/plain": [
              "<_sre.SRE_Match object; span=(24, 25), match='p'>"
            ]
          },
          "metadata": {
            "tags": []
          },
          "execution_count": 6
        }
      ]
    },
    {
      "cell_type": "markdown",
      "metadata": {
        "id": "oyuoUy-XbxfG",
        "colab_type": "text"
      },
      "source": [
        "### Quantifiers"
      ]
    },
    {
      "cell_type": "code",
      "metadata": {
        "id": "8Xxq0AbLb1Tq",
        "colab_type": "code",
        "colab": {
          "base_uri": "https://localhost:8080/",
          "height": 68
        },
        "outputId": "46f1976a-f518-4994-915a-4042721d8161"
      },
      "source": [
        "# '*' : This means zero or more\n",
        "print(find_pattern(\"ac\", \"ab*\"))\n",
        "print(find_pattern(\"abc\",\"ab*\"))\n",
        "print(find_pattern(\"abbc\",\"ab*\"))"
      ],
      "execution_count": 7,
      "outputs": [
        {
          "output_type": "stream",
          "text": [
            "<_sre.SRE_Match object; span=(0, 1), match='a'>\n",
            "<_sre.SRE_Match object; span=(0, 2), match='ab'>\n",
            "<_sre.SRE_Match object; span=(0, 3), match='abb'>\n"
          ],
          "name": "stdout"
        }
      ]
    },
    {
      "cell_type": "code",
      "metadata": {
        "id": "SERox5mJZxZB",
        "colab_type": "code",
        "colab": {
          "base_uri": "https://localhost:8080/",
          "height": 68
        },
        "outputId": "65680f99-63ef-4450-8748-f206fb76bb9a"
      },
      "source": [
        "# '?' : This means zero or one \n",
        "print(find_pattern(\"ac\",\"ab?\"))\n",
        "print(find_pattern(\"abc\",\"ab?\"))\n",
        "print(find_pattern(\"abbc\",\"ab?\"))\n"
      ],
      "execution_count": 8,
      "outputs": [
        {
          "output_type": "stream",
          "text": [
            "<_sre.SRE_Match object; span=(0, 1), match='a'>\n",
            "<_sre.SRE_Match object; span=(0, 2), match='ab'>\n",
            "<_sre.SRE_Match object; span=(0, 2), match='ab'>\n"
          ],
          "name": "stdout"
        }
      ]
    },
    {
      "cell_type": "code",
      "metadata": {
        "id": "bvR82YkAZPgn",
        "colab_type": "code",
        "colab": {
          "base_uri": "https://localhost:8080/",
          "height": 68
        },
        "outputId": "0795b3e2-3234-4f01-ab5f-df488aec393f"
      },
      "source": [
        "# '+' : This means one or more \n",
        "print(find_pattern(\"ac\",\"ab+\"))\n",
        "print(find_pattern(\"abc\",\"ab+\"))\n",
        "print(find_pattern(\"abbc\",\"ab+\"))"
      ],
      "execution_count": 9,
      "outputs": [
        {
          "output_type": "stream",
          "text": [
            "None\n",
            "<_sre.SRE_Match object; span=(0, 2), match='ab'>\n",
            "<_sre.SRE_Match object; span=(0, 3), match='abb'>\n"
          ],
          "name": "stdout"
        }
      ]
    },
    {
      "cell_type": "code",
      "metadata": {
        "id": "GZocxHwJdppc",
        "colab_type": "code",
        "colab": {
          "base_uri": "https://localhost:8080/",
          "height": 34
        },
        "outputId": "3427c2ad-7fe7-4ced-f2cd-b76077d9b702"
      },
      "source": [
        "# {n} : Matches if a character is present exactly n number of times\n",
        "print(find_pattern(\"abbc\", \"ab{2}\"))"
      ],
      "execution_count": 10,
      "outputs": [
        {
          "output_type": "stream",
          "text": [
            "<_sre.SRE_Match object; span=(0, 3), match='abb'>\n"
          ],
          "name": "stdout"
        }
      ]
    },
    {
      "cell_type": "code",
      "metadata": {
        "id": "H6GTZbY1d3Te",
        "colab_type": "code",
        "colab": {
          "base_uri": "https://localhost:8080/",
          "height": 86
        },
        "outputId": "5112abbf-f3a5-4af8-de7a-5462af0ecb34"
      },
      "source": [
        "# {m,n} : Matches if a character is present from m to n number of times\n",
        "print(find_pattern(\"aabbbbbb\", \"ab{3,5}\"))\n",
        "print(find_pattern(\"aabbbbbbc\", \"ab{7,10}\"))\n",
        "print(find_pattern(\"aabbbbbbc\", \"ab{,10}\"))\n",
        "print(find_pattern(\"aabbbbbbc\", \"ab{10,}\"))"
      ],
      "execution_count": 11,
      "outputs": [
        {
          "output_type": "stream",
          "text": [
            "<_sre.SRE_Match object; span=(1, 7), match='abbbbb'>\n",
            "None\n",
            "<_sre.SRE_Match object; span=(0, 1), match='a'>\n",
            "None\n"
          ],
          "name": "stdout"
        }
      ]
    },
    {
      "cell_type": "markdown",
      "metadata": {
        "id": "nGH8FJBAfQ7d",
        "colab_type": "text"
      },
      "source": [
        "### Anchors"
      ]
    },
    {
      "cell_type": "code",
      "metadata": {
        "id": "I60KYEdefTjR",
        "colab_type": "code",
        "colab": {
          "base_uri": "https://localhost:8080/",
          "height": 86
        },
        "outputId": "ce6510b1-4a4d-4e0f-c68d-7b370a5f464a"
      },
      "source": [
        "# '^' : Indicates start of the string\n",
        "# '$' : Indicates end of the string\n",
        "print(find_pattern(\"James\",\"^J\"))\n",
        "print(find_pattern(\"Pramod\",\"^J\"))\n",
        "print(find_pattern(\"India\",\"a$\"))\n",
        "print(find_pattern(\"Japan\",\"a$\"))"
      ],
      "execution_count": 12,
      "outputs": [
        {
          "output_type": "stream",
          "text": [
            "<_sre.SRE_Match object; span=(0, 1), match='J'>\n",
            "None\n",
            "<_sre.SRE_Match object; span=(4, 5), match='a'>\n",
            "None\n"
          ],
          "name": "stdout"
        }
      ]
    },
    {
      "cell_type": "markdown",
      "metadata": {
        "id": "jzNSxJ50iea6",
        "colab_type": "text"
      },
      "source": [
        "### Wildcards"
      ]
    },
    {
      "cell_type": "code",
      "metadata": {
        "id": "ecA72_cBihBv",
        "colab_type": "code",
        "colab": {
          "base_uri": "https://localhost:8080/",
          "height": 51
        },
        "outputId": "6c71a3ab-8615-4cfb-a725-6ddaac608838"
      },
      "source": [
        "# '.' : Matches any character\n",
        "print(find_pattern(\"a\",\".\"))\n",
        "print(find_pattern(\"#\",'.'))"
      ],
      "execution_count": 13,
      "outputs": [
        {
          "output_type": "stream",
          "text": [
            "<_sre.SRE_Match object; span=(0, 1), match='a'>\n",
            "<_sre.SRE_Match object; span=(0, 1), match='#'>\n"
          ],
          "name": "stdout"
        }
      ]
    },
    {
      "cell_type": "markdown",
      "metadata": {
        "id": "yj9fwQjdixNw",
        "colab_type": "text"
      },
      "source": [
        "### Characters Sets"
      ]
    },
    {
      "cell_type": "code",
      "metadata": {
        "id": "sIVmBs4ii0AA",
        "colab_type": "code",
        "colab": {
          "base_uri": "https://localhost:8080/",
          "height": 51
        },
        "outputId": "24ad548f-010c-4a84-951e-f1111c3f8213"
      },
      "source": [
        "# '[' and ']' : Used for specifying a character class \n",
        "# Characters can be listed individually as follows\n",
        "print(find_pattern(\"a\",\"[abc]\"))\n",
        "\n",
        "# Or a range of characters can be indicated by giving two characters and separated by hyphen\n",
        "print(find_pattern(\"c\",\"[a-c]\"))\n"
      ],
      "execution_count": 14,
      "outputs": [
        {
          "output_type": "stream",
          "text": [
            "<_sre.SRE_Match object; span=(0, 1), match='a'>\n",
            "<_sre.SRE_Match object; span=(0, 1), match='c'>\n"
          ],
          "name": "stdout"
        }
      ]
    },
    {
      "cell_type": "code",
      "metadata": {
        "id": "4vX_euIEiu4v",
        "colab_type": "code",
        "colab": {
          "base_uri": "https://localhost:8080/",
          "height": 34
        },
        "outputId": "86700720-87c3-48fc-b666-a10bf6f2a791"
      },
      "source": [
        "# '^' is used inside character set to indicate complementary set\n",
        "print(find_pattern(\"a\",\"[^abc]\")) # return true if neither of these is present"
      ],
      "execution_count": 16,
      "outputs": [
        {
          "output_type": "stream",
          "text": [
            "None\n"
          ],
          "name": "stdout"
        }
      ]
    },
    {
      "cell_type": "markdown",
      "metadata": {
        "id": "wsw7UuthzavZ",
        "colab_type": "text"
      },
      "source": [
        "### Meta sequences\n",
        "\n",
        "\\s --> [\\t\\n\\r\\f\\v] <br>\n",
        "\\S --> [^\\t\\n\\r\\f\\v] <br>\n",
        "\\d --> [0-9] <br>\n",
        "\\D --> [^0-9] <br>\n",
        "\\w --> [a-zA-Z0-9_] <br>\n",
        "\\W --> [^a-zA-Z0-9_]"
      ]
    },
    {
      "cell_type": "markdown",
      "metadata": {
        "id": "B2NrFwfz3eVF",
        "colab_type": "text"
      },
      "source": [
        "## Greedy Vs Non Greedy regex"
      ]
    },
    {
      "cell_type": "code",
      "metadata": {
        "id": "9_oz3NCk3kPK",
        "colab_type": "code",
        "colab": {
          "base_uri": "https://localhost:8080/",
          "height": 34
        },
        "outputId": "c803dfd7-110f-4456-d237-fc36799d93b1"
      },
      "source": [
        "print(find_pattern(\"aabbbbbb\",\"ab{3,5}\")) # returns if a is followed by b 3 to 5 times\n"
      ],
      "execution_count": 17,
      "outputs": [
        {
          "output_type": "stream",
          "text": [
            "<_sre.SRE_Match object; span=(1, 7), match='abbbbb'>\n"
          ],
          "name": "stdout"
        }
      ]
    },
    {
      "cell_type": "code",
      "metadata": {
        "id": "wmg9eXd0yzBk",
        "colab_type": "code",
        "colab": {
          "base_uri": "https://localhost:8080/",
          "height": 34
        },
        "outputId": "58b2ca45-2a38-4fdc-bdf6-6e83c68dd8ca"
      },
      "source": [
        "print(find_pattern(\"aabbbbbb\",\"ab{3,5}?\"))"
      ],
      "execution_count": 18,
      "outputs": [
        {
          "output_type": "stream",
          "text": [
            "<_sre.SRE_Match object; span=(1, 5), match='abbb'>\n"
          ],
          "name": "stdout"
        }
      ]
    },
    {
      "cell_type": "code",
      "metadata": {
        "id": "yN1sO3EO4F6y",
        "colab_type": "code",
        "colab": {
          "base_uri": "https://localhost:8080/",
          "height": 34
        },
        "outputId": "0f0048b0-1376-4a53-e4f6-6309023bf10e"
      },
      "source": [
        "# Example of HTML code\n",
        "print(re.search(\"<.*>\",\"<HTML><TITLE>My Page</TITLE></HTML>\"))"
      ],
      "execution_count": 19,
      "outputs": [
        {
          "output_type": "stream",
          "text": [
            "<_sre.SRE_Match object; span=(0, 35), match='<HTML><TITLE>My Page</TITLE></HTML>'>\n"
          ],
          "name": "stdout"
        }
      ]
    },
    {
      "cell_type": "code",
      "metadata": {
        "id": "yiqblk404a8J",
        "colab_type": "code",
        "colab": {
          "base_uri": "https://localhost:8080/",
          "height": 34
        },
        "outputId": "2b9c6142-8188-464f-8fbd-5c755e958e94"
      },
      "source": [
        "# Eaxmple of HTML Code\n",
        "print(re.search(\"<.*?>\",\"<HTML><TITLE>My Page</TITLE></HTML>\"))"
      ],
      "execution_count": 21,
      "outputs": [
        {
          "output_type": "stream",
          "text": [
            "<_sre.SRE_Match object; span=(0, 6), match='<HTML>'>\n"
          ],
          "name": "stdout"
        }
      ]
    },
    {
      "cell_type": "markdown",
      "metadata": {
        "id": "69Sd0cpG5vtb",
        "colab_type": "text"
      },
      "source": [
        "## The five most important re functions that you would be required to use most of the times are\n",
        "\n",
        "\n",
        "1.   **match()** - Determine if the RE matches at the beginning of the string\n",
        "2.   **search()** - San through a string, looking for any location where this RE matches\n",
        "3.   **findall()** - Find all the substrings where the RE matches, and return them as list\n",
        "4.  **finditer()** - Find all the substrings where RE matches and return them as iterator\n",
        "5.  **sub()** - Find all substrings where RE matches and return them with the given string.\n",
        "\n",
        "\n",
        "\n"
      ]
    },
    {
      "cell_type": "code",
      "metadata": {
        "id": "XZdT909z6rgI",
        "colab_type": "code",
        "colab": {}
      },
      "source": [
        ""
      ],
      "execution_count": 0,
      "outputs": []
    },
    {
      "cell_type": "code",
      "metadata": {
        "id": "TBtqooft49xF",
        "colab_type": "code",
        "colab": {}
      },
      "source": [
        ""
      ],
      "execution_count": 0,
      "outputs": []
    }
  ]
}