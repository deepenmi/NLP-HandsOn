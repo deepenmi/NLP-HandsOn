{
  "nbformat": 4,
  "nbformat_minor": 0,
  "metadata": {
    "colab": {
      "name": "RegularExpression.ipynb",
      "provenance": [],
      "collapsed_sections": [],
      "authorship_tag": "ABX9TyNHVXy2f/WZgmOvS+p4/3IQ",
      "include_colab_link": true
    },
    "kernelspec": {
      "name": "python3",
      "display_name": "Python 3"
    }
  },
  "cells": [
    {
      "cell_type": "markdown",
      "metadata": {
        "id": "view-in-github",
        "colab_type": "text"
      },
      "source": [
        "<a href=\"https://colab.research.google.com/github/deepenmi/NLP-HandsOn/blob/master/RegularExpression.ipynb\" target=\"_parent\"><img src=\"https://colab.research.google.com/assets/colab-badge.svg\" alt=\"Open In Colab\"/></a>"
      ]
    },
    {
      "cell_type": "code",
      "metadata": {
        "id": "RAxQWEMaYUEQ",
        "colab_type": "code",
        "colab": {}
      },
      "source": [
        ""
      ],
      "execution_count": 0,
      "outputs": []
    },
    {
      "cell_type": "markdown",
      "metadata": {
        "id": "_igK9YszYX-5",
        "colab_type": "text"
      },
      "source": [
        "## Import Regular Expression Library\n"
      ]
    },
    {
      "cell_type": "code",
      "metadata": {
        "id": "le7H-afxYhar",
        "colab_type": "code",
        "colab": {}
      },
      "source": [
        "import re"
      ],
      "execution_count": 0,
      "outputs": []
    },
    {
      "cell_type": "markdown",
      "metadata": {
        "id": "BsTdFUO0Za3D",
        "colab_type": "text"
      },
      "source": [
        "Quick search of pattern in the text"
      ]
    },
    {
      "cell_type": "code",
      "metadata": {
        "id": "nBLF2E0-Ye2a",
        "colab_type": "code",
        "colab": {
          "base_uri": "https://localhost:8080/",
          "height": 34
        },
        "outputId": "38c6c822-8253-4546-8001-0f613659dfc5"
      },
      "source": [
        "re.search('Deependra', 'Hello, my name is Deependra. How are you doing?')"
      ],
      "execution_count": 3,
      "outputs": [
        {
          "output_type": "execute_result",
          "data": {
            "text/plain": [
              "<_sre.SRE_Match object; span=(18, 27), match='Deependra'>"
            ]
          },
          "metadata": {
            "tags": []
          },
          "execution_count": 3
        }
      ]
    },
    {
      "cell_type": "code",
      "metadata": {
        "id": "p83AJmrwYzoH",
        "colab_type": "code",
        "colab": {
          "base_uri": "https://localhost:8080/",
          "height": 34
        },
        "outputId": "263601d2-af05-4fd6-9758-1ff6668045d6"
      },
      "source": [
        "# print output of re.search()\n",
        "match = re.search('ocean', 'You can never cross the ocean until you have the courage to lose sight of the shore')\n",
        "print(match.group())"
      ],
      "execution_count": 5,
      "outputs": [
        {
          "output_type": "stream",
          "text": [
            "ocean\n"
          ],
          "name": "stdout"
        }
      ]
    },
    {
      "cell_type": "markdown",
      "metadata": {
        "id": "bEVbRs8HaC0v",
        "colab_type": "text"
      },
      "source": [
        "### Function to match regular expression patterns\n"
      ]
    },
    {
      "cell_type": "code",
      "metadata": {
        "id": "tsIuXs2_aOTy",
        "colab_type": "code",
        "colab": {}
      },
      "source": [
        "def find_pattern(text, pattern):\n",
        "  return re.search(pattern, text)"
      ],
      "execution_count": 0,
      "outputs": []
    },
    {
      "cell_type": "code",
      "metadata": {
        "id": "ynACDuysaMI8",
        "colab_type": "code",
        "colab": {
          "base_uri": "https://localhost:8080/",
          "height": 34
        },
        "outputId": "f860f0b0-1838-4877-f8a5-a18727fd159b"
      },
      "source": [
        "find_pattern(\"You don't always need a plan.\",\"pj*\")"
      ],
      "execution_count": 13,
      "outputs": [
        {
          "output_type": "execute_result",
          "data": {
            "text/plain": [
              "<_sre.SRE_Match object; span=(24, 25), match='p'>"
            ]
          },
          "metadata": {
            "tags": []
          },
          "execution_count": 13
        }
      ]
    },
    {
      "cell_type": "markdown",
      "metadata": {
        "id": "oyuoUy-XbxfG",
        "colab_type": "text"
      },
      "source": [
        "### Quantifiers"
      ]
    },
    {
      "cell_type": "code",
      "metadata": {
        "id": "8Xxq0AbLb1Tq",
        "colab_type": "code",
        "colab": {
          "base_uri": "https://localhost:8080/",
          "height": 68
        },
        "outputId": "9a5f08b2-daff-48ba-d3c7-839e8f30653d"
      },
      "source": [
        "# '*' : This means zero or more\n",
        "print(find_pattern(\"ac\", \"ab*\"))\n",
        "print(find_pattern(\"abc\",\"ab*\"))\n",
        "print(find_pattern(\"abbc\",\"ab*\"))"
      ],
      "execution_count": 14,
      "outputs": [
        {
          "output_type": "stream",
          "text": [
            "<_sre.SRE_Match object; span=(0, 1), match='a'>\n",
            "<_sre.SRE_Match object; span=(0, 2), match='ab'>\n",
            "<_sre.SRE_Match object; span=(0, 3), match='abb'>\n"
          ],
          "name": "stdout"
        }
      ]
    },
    {
      "cell_type": "code",
      "metadata": {
        "id": "SERox5mJZxZB",
        "colab_type": "code",
        "colab": {
          "base_uri": "https://localhost:8080/",
          "height": 68
        },
        "outputId": "ddce53ac-e819-4d68-b070-8b1df94a2361"
      },
      "source": [
        "# '?' : This means zero or one \n",
        "print(find_pattern(\"ac\",\"ab?\"))\n",
        "print(find_pattern(\"abc\",\"ab?\"))\n",
        "print(find_pattern(\"abbc\",\"ab?\"))\n"
      ],
      "execution_count": 15,
      "outputs": [
        {
          "output_type": "stream",
          "text": [
            "<_sre.SRE_Match object; span=(0, 1), match='a'>\n",
            "<_sre.SRE_Match object; span=(0, 2), match='ab'>\n",
            "<_sre.SRE_Match object; span=(0, 2), match='ab'>\n"
          ],
          "name": "stdout"
        }
      ]
    },
    {
      "cell_type": "code",
      "metadata": {
        "id": "bvR82YkAZPgn",
        "colab_type": "code",
        "colab": {
          "base_uri": "https://localhost:8080/",
          "height": 68
        },
        "outputId": "7fbd3ee1-cde4-4112-b89d-b3691d7dabb9"
      },
      "source": [
        "# '+' : This means one or more \n",
        "print(find_pattern(\"ac\",\"ab+\"))\n",
        "print(find_pattern(\"abc\",\"ab+\"))\n",
        "print(find_pattern(\"abbc\",\"ab+\"))"
      ],
      "execution_count": 17,
      "outputs": [
        {
          "output_type": "stream",
          "text": [
            "None\n",
            "<_sre.SRE_Match object; span=(0, 2), match='ab'>\n",
            "<_sre.SRE_Match object; span=(0, 3), match='abb'>\n"
          ],
          "name": "stdout"
        }
      ]
    },
    {
      "cell_type": "code",
      "metadata": {
        "id": "GZocxHwJdppc",
        "colab_type": "code",
        "colab": {
          "base_uri": "https://localhost:8080/",
          "height": 34
        },
        "outputId": "344c2b99-8d78-42a4-d929-6bfcd37a4ac0"
      },
      "source": [
        "# {n} : Matches if a character is present exactly n number of times\n",
        "print(find_pattern(\"abbc\", \"ab{2}\"))"
      ],
      "execution_count": 18,
      "outputs": [
        {
          "output_type": "stream",
          "text": [
            "<_sre.SRE_Match object; span=(0, 3), match='abb'>\n"
          ],
          "name": "stdout"
        }
      ]
    },
    {
      "cell_type": "code",
      "metadata": {
        "id": "H6GTZbY1d3Te",
        "colab_type": "code",
        "colab": {
          "base_uri": "https://localhost:8080/",
          "height": 86
        },
        "outputId": "e644bd07-0db4-4525-f324-9457da11edcc"
      },
      "source": [
        "# {m,n} : Matches if a character is present from m to n number of times\n",
        "print(find_pattern(\"aabbbbbb\", \"ab{3,5}\"))\n",
        "print(find_pattern(\"aabbbbbbc\", \"ab{7,10}\"))\n",
        "print(find_pattern(\"aabbbbbbc\", \"ab{,10}\"))\n",
        "print(find_pattern(\"aabbbbbbc\", \"ab{10,}\"))"
      ],
      "execution_count": 19,
      "outputs": [
        {
          "output_type": "stream",
          "text": [
            "<_sre.SRE_Match object; span=(1, 7), match='abbbbb'>\n",
            "None\n",
            "<_sre.SRE_Match object; span=(0, 1), match='a'>\n",
            "None\n"
          ],
          "name": "stdout"
        }
      ]
    },
    {
      "cell_type": "markdown",
      "metadata": {
        "id": "nGH8FJBAfQ7d",
        "colab_type": "text"
      },
      "source": [
        "### Anchors"
      ]
    },
    {
      "cell_type": "code",
      "metadata": {
        "id": "I60KYEdefTjR",
        "colab_type": "code",
        "colab": {
          "base_uri": "https://localhost:8080/",
          "height": 86
        },
        "outputId": "b522720b-2cb8-483e-898e-2e7c0a132a7d"
      },
      "source": [
        "# '^' : Indicates start of the string\n",
        "# '$' : Indicates end of the string\n",
        "print(find_pattern(\"James\",\"^J\"))\n",
        "print(find_pattern(\"Pramod\",\"^J\"))\n",
        "print(find_pattern(\"India\",\"a$\"))\n",
        "print(find_pattern(\"Japan\",\"a$\"))"
      ],
      "execution_count": 20,
      "outputs": [
        {
          "output_type": "stream",
          "text": [
            "<_sre.SRE_Match object; span=(0, 1), match='J'>\n",
            "None\n",
            "<_sre.SRE_Match object; span=(4, 5), match='a'>\n",
            "None\n"
          ],
          "name": "stdout"
        }
      ]
    },
    {
      "cell_type": "markdown",
      "metadata": {
        "id": "jzNSxJ50iea6",
        "colab_type": "text"
      },
      "source": [
        "### Wildcards"
      ]
    },
    {
      "cell_type": "code",
      "metadata": {
        "id": "ecA72_cBihBv",
        "colab_type": "code",
        "colab": {
          "base_uri": "https://localhost:8080/",
          "height": 51
        },
        "outputId": "6bd2d1b0-59db-4606-a1db-6c93b188f1db"
      },
      "source": [
        "# '.' : Matches any character\n",
        "print(find_pattern(\"a\",\".\"))\n",
        "print(find_pattern(\"#\",'.'))"
      ],
      "execution_count": 21,
      "outputs": [
        {
          "output_type": "stream",
          "text": [
            "<_sre.SRE_Match object; span=(0, 1), match='a'>\n",
            "<_sre.SRE_Match object; span=(0, 1), match='#'>\n"
          ],
          "name": "stdout"
        }
      ]
    },
    {
      "cell_type": "markdown",
      "metadata": {
        "id": "yj9fwQjdixNw",
        "colab_type": "text"
      },
      "source": [
        "### Characters Sets"
      ]
    },
    {
      "cell_type": "code",
      "metadata": {
        "id": "sIVmBs4ii0AA",
        "colab_type": "code",
        "colab": {}
      },
      "source": [
        ""
      ],
      "execution_count": 0,
      "outputs": []
    },
    {
      "cell_type": "code",
      "metadata": {
        "id": "4vX_euIEiu4v",
        "colab_type": "code",
        "colab": {}
      },
      "source": [
        ""
      ],
      "execution_count": 0,
      "outputs": []
    }
  ]
}